{
 "cells": [
  {
   "cell_type": "markdown",
   "metadata": {},
   "source": [
    "# TF-IDF Example"
   ]
  },
  {
   "cell_type": "code",
   "execution_count": 45,
   "metadata": {},
   "outputs": [],
   "source": [
    "import pandas as pd\n",
    "import math"
   ]
  },
  {
   "cell_type": "code",
   "execution_count": 91,
   "metadata": {},
   "outputs": [],
   "source": [
    "docA = \"Because Mary and Samantha arrived at the bus station before noon I did not see them at the bus station\"\n",
    "docB = \"Mary and Samantha After they left on the bus Mary and Samantha realized that Joe was waiting at the train station\""
   ]
  },
  {
   "cell_type": "code",
   "execution_count": 92,
   "metadata": {},
   "outputs": [],
   "source": [
    "split_A = docA.split(' ')\n",
    "split_B = docB.split(' ')"
   ]
  },
  {
   "cell_type": "code",
   "execution_count": 93,
   "metadata": {},
   "outputs": [
    {
     "data": {
      "text/plain": [
       "{'After',\n",
       " 'Because',\n",
       " 'I',\n",
       " 'Joe',\n",
       " 'Mary',\n",
       " 'Samantha',\n",
       " 'and',\n",
       " 'arrived',\n",
       " 'at',\n",
       " 'before',\n",
       " 'bus',\n",
       " 'did',\n",
       " 'left',\n",
       " 'noon',\n",
       " 'not',\n",
       " 'on',\n",
       " 'realized',\n",
       " 'see',\n",
       " 'station',\n",
       " 'that',\n",
       " 'the',\n",
       " 'them',\n",
       " 'they',\n",
       " 'train',\n",
       " 'waiting',\n",
       " 'was'}"
      ]
     },
     "execution_count": 93,
     "metadata": {},
     "output_type": "execute_result"
    }
   ],
   "source": [
    "words = set(split_A).union(set(split_B))\n",
    "words"
   ]
  },
  {
   "cell_type": "code",
   "execution_count": 94,
   "metadata": {},
   "outputs": [],
   "source": [
    "word_dict_A = dict.fromkeys(words,0)\n",
    "word_dict_B = dict.fromkeys(words,0)"
   ]
  },
  {
   "cell_type": "code",
   "execution_count": 95,
   "metadata": {},
   "outputs": [],
   "source": [
    "for word in split_A:\n",
    "    word_dict_A[word] = 1\n",
    "    \n",
    "for word in split_B:\n",
    "    word_dict_B[word] = 1"
   ]
  },
  {
   "cell_type": "code",
   "execution_count": 96,
   "metadata": {},
   "outputs": [
    {
     "data": {
      "text/html": [
       "<div>\n",
       "<style scoped>\n",
       "    .dataframe tbody tr th:only-of-type {\n",
       "        vertical-align: middle;\n",
       "    }\n",
       "\n",
       "    .dataframe tbody tr th {\n",
       "        vertical-align: top;\n",
       "    }\n",
       "\n",
       "    .dataframe thead th {\n",
       "        text-align: right;\n",
       "    }\n",
       "</style>\n",
       "<table border=\"1\" class=\"dataframe\">\n",
       "  <thead>\n",
       "    <tr style=\"text-align: right;\">\n",
       "      <th></th>\n",
       "      <th>After</th>\n",
       "      <th>Because</th>\n",
       "      <th>I</th>\n",
       "      <th>Joe</th>\n",
       "      <th>Mary</th>\n",
       "      <th>Samantha</th>\n",
       "      <th>and</th>\n",
       "      <th>arrived</th>\n",
       "      <th>at</th>\n",
       "      <th>before</th>\n",
       "      <th>...</th>\n",
       "      <th>realized</th>\n",
       "      <th>see</th>\n",
       "      <th>station</th>\n",
       "      <th>that</th>\n",
       "      <th>the</th>\n",
       "      <th>them</th>\n",
       "      <th>they</th>\n",
       "      <th>train</th>\n",
       "      <th>waiting</th>\n",
       "      <th>was</th>\n",
       "    </tr>\n",
       "  </thead>\n",
       "  <tbody>\n",
       "    <tr>\n",
       "      <th>0</th>\n",
       "      <td>0</td>\n",
       "      <td>1</td>\n",
       "      <td>1</td>\n",
       "      <td>0</td>\n",
       "      <td>1</td>\n",
       "      <td>1</td>\n",
       "      <td>1</td>\n",
       "      <td>1</td>\n",
       "      <td>1</td>\n",
       "      <td>1</td>\n",
       "      <td>...</td>\n",
       "      <td>0</td>\n",
       "      <td>1</td>\n",
       "      <td>1</td>\n",
       "      <td>0</td>\n",
       "      <td>1</td>\n",
       "      <td>1</td>\n",
       "      <td>0</td>\n",
       "      <td>0</td>\n",
       "      <td>0</td>\n",
       "      <td>0</td>\n",
       "    </tr>\n",
       "    <tr>\n",
       "      <th>1</th>\n",
       "      <td>1</td>\n",
       "      <td>0</td>\n",
       "      <td>0</td>\n",
       "      <td>1</td>\n",
       "      <td>1</td>\n",
       "      <td>1</td>\n",
       "      <td>1</td>\n",
       "      <td>0</td>\n",
       "      <td>1</td>\n",
       "      <td>0</td>\n",
       "      <td>...</td>\n",
       "      <td>1</td>\n",
       "      <td>0</td>\n",
       "      <td>1</td>\n",
       "      <td>1</td>\n",
       "      <td>1</td>\n",
       "      <td>0</td>\n",
       "      <td>1</td>\n",
       "      <td>1</td>\n",
       "      <td>1</td>\n",
       "      <td>1</td>\n",
       "    </tr>\n",
       "  </tbody>\n",
       "</table>\n",
       "<p>2 rows × 26 columns</p>\n",
       "</div>"
      ],
      "text/plain": [
       "   After  Because  I  Joe  Mary  Samantha  and  arrived  at  before ...   \\\n",
       "0      0        1  1    0     1         1    1        1   1       1 ...    \n",
       "1      1        0  0    1     1         1    1        0   1       0 ...    \n",
       "\n",
       "   realized  see  station  that  the  them  they  train  waiting  was  \n",
       "0         0    1        1     0    1     1     0      0        0    0  \n",
       "1         1    0        1     1    1     0     1      1        1    1  \n",
       "\n",
       "[2 rows x 26 columns]"
      ]
     },
     "execution_count": 96,
     "metadata": {},
     "output_type": "execute_result"
    }
   ],
   "source": [
    "df = pd.DataFrame([word_dict_A, word_dict_B])\n",
    "df"
   ]
  },
  {
   "cell_type": "code",
   "execution_count": 97,
   "metadata": {},
   "outputs": [],
   "source": [
    "def calcDF(word_dict, split):\n",
    "    tfDict = {}\n",
    "    doc_length = len(split)\n",
    "    for word,count in word_dict.items():\n",
    "        tfDict[word] = count/doc_length\n",
    "    return tfDict"
   ]
  },
  {
   "cell_type": "code",
   "execution_count": 98,
   "metadata": {},
   "outputs": [],
   "source": [
    "tf_A = calcDF(word_dict_A, split_A)\n",
    "tf_B = calcDF(word_dict_B, split_B)"
   ]
  },
  {
   "cell_type": "code",
   "execution_count": 99,
   "metadata": {},
   "outputs": [],
   "source": [
    "def calcIDF(docList):\n",
    "    idfDict = dict.fromkeys(docList[0].keys(), 0)\n",
    "    N = len(docList)\n",
    "    for doc in docList:\n",
    "        for word,val in doc.items():\n",
    "            if(val > 0):\n",
    "                idfDict[word] += 1 \n",
    "    for word,val in idfDict.items():\n",
    "        idfDict[word] = math.log10(N/val)\n",
    "        \n",
    "    return idfDict "
   ]
  },
  {
   "cell_type": "code",
   "execution_count": 100,
   "metadata": {},
   "outputs": [
    {
     "data": {
      "text/plain": [
       "{'I': 0.3010299956639812,\n",
       " 'Mary': 0.0,\n",
       " 'station': 0.0,\n",
       " 'realized': 0.3010299956639812,\n",
       " 'they': 0.3010299956639812,\n",
       " 'Joe': 0.3010299956639812,\n",
       " 'that': 0.3010299956639812,\n",
       " 'at': 0.0,\n",
       " 'did': 0.3010299956639812,\n",
       " 'see': 0.3010299956639812,\n",
       " 'noon': 0.3010299956639812,\n",
       " 'on': 0.3010299956639812,\n",
       " 'was': 0.3010299956639812,\n",
       " 'not': 0.3010299956639812,\n",
       " 'the': 0.0,\n",
       " 'bus': 0.0,\n",
       " 'before': 0.3010299956639812,\n",
       " 'and': 0.0,\n",
       " 'train': 0.3010299956639812,\n",
       " 'left': 0.3010299956639812,\n",
       " 'arrived': 0.3010299956639812,\n",
       " 'Samantha': 0.0,\n",
       " 'waiting': 0.3010299956639812,\n",
       " 'Because': 0.3010299956639812,\n",
       " 'After': 0.3010299956639812,\n",
       " 'them': 0.3010299956639812}"
      ]
     },
     "execution_count": 100,
     "metadata": {},
     "output_type": "execute_result"
    }
   ],
   "source": [
    "idf = calcIDF([word_dict_A,word_dict_B])\n",
    "idf"
   ]
  },
  {
   "cell_type": "code",
   "execution_count": 101,
   "metadata": {},
   "outputs": [],
   "source": [
    "def calcTF_IDF(tf, idf):\n",
    "    tf_idfDict = {}\n",
    "    for word, val in tf.items():\n",
    "        tf_idfDict[word] = val*idf[word]\n",
    "    return tf_idfDict"
   ]
  },
  {
   "cell_type": "code",
   "execution_count": 102,
   "metadata": {},
   "outputs": [
    {
     "data": {
      "text/html": [
       "<div>\n",
       "<style scoped>\n",
       "    .dataframe tbody tr th:only-of-type {\n",
       "        vertical-align: middle;\n",
       "    }\n",
       "\n",
       "    .dataframe tbody tr th {\n",
       "        vertical-align: top;\n",
       "    }\n",
       "\n",
       "    .dataframe thead th {\n",
       "        text-align: right;\n",
       "    }\n",
       "</style>\n",
       "<table border=\"1\" class=\"dataframe\">\n",
       "  <thead>\n",
       "    <tr style=\"text-align: right;\">\n",
       "      <th></th>\n",
       "      <th>After</th>\n",
       "      <th>Because</th>\n",
       "      <th>I</th>\n",
       "      <th>Joe</th>\n",
       "      <th>Mary</th>\n",
       "      <th>Samantha</th>\n",
       "      <th>and</th>\n",
       "      <th>arrived</th>\n",
       "      <th>at</th>\n",
       "      <th>before</th>\n",
       "      <th>...</th>\n",
       "      <th>realized</th>\n",
       "      <th>see</th>\n",
       "      <th>station</th>\n",
       "      <th>that</th>\n",
       "      <th>the</th>\n",
       "      <th>them</th>\n",
       "      <th>they</th>\n",
       "      <th>train</th>\n",
       "      <th>waiting</th>\n",
       "      <th>was</th>\n",
       "    </tr>\n",
       "  </thead>\n",
       "  <tbody>\n",
       "    <tr>\n",
       "      <th>0</th>\n",
       "      <td>0.000000</td>\n",
       "      <td>0.015051</td>\n",
       "      <td>0.015051</td>\n",
       "      <td>0.000000</td>\n",
       "      <td>0.0</td>\n",
       "      <td>0.0</td>\n",
       "      <td>0.0</td>\n",
       "      <td>0.015051</td>\n",
       "      <td>0.0</td>\n",
       "      <td>0.015051</td>\n",
       "      <td>...</td>\n",
       "      <td>0.000000</td>\n",
       "      <td>0.015051</td>\n",
       "      <td>0.0</td>\n",
       "      <td>0.000000</td>\n",
       "      <td>0.0</td>\n",
       "      <td>0.015051</td>\n",
       "      <td>0.000000</td>\n",
       "      <td>0.000000</td>\n",
       "      <td>0.000000</td>\n",
       "      <td>0.000000</td>\n",
       "    </tr>\n",
       "    <tr>\n",
       "      <th>1</th>\n",
       "      <td>0.014335</td>\n",
       "      <td>0.000000</td>\n",
       "      <td>0.000000</td>\n",
       "      <td>0.014335</td>\n",
       "      <td>0.0</td>\n",
       "      <td>0.0</td>\n",
       "      <td>0.0</td>\n",
       "      <td>0.000000</td>\n",
       "      <td>0.0</td>\n",
       "      <td>0.000000</td>\n",
       "      <td>...</td>\n",
       "      <td>0.014335</td>\n",
       "      <td>0.000000</td>\n",
       "      <td>0.0</td>\n",
       "      <td>0.014335</td>\n",
       "      <td>0.0</td>\n",
       "      <td>0.000000</td>\n",
       "      <td>0.014335</td>\n",
       "      <td>0.014335</td>\n",
       "      <td>0.014335</td>\n",
       "      <td>0.014335</td>\n",
       "    </tr>\n",
       "  </tbody>\n",
       "</table>\n",
       "<p>2 rows × 26 columns</p>\n",
       "</div>"
      ],
      "text/plain": [
       "      After   Because         I       Joe  Mary  Samantha  and   arrived   at  \\\n",
       "0  0.000000  0.015051  0.015051  0.000000   0.0       0.0  0.0  0.015051  0.0   \n",
       "1  0.014335  0.000000  0.000000  0.014335   0.0       0.0  0.0  0.000000  0.0   \n",
       "\n",
       "     before    ...     realized       see  station      that  the      them  \\\n",
       "0  0.015051    ...     0.000000  0.015051      0.0  0.000000  0.0  0.015051   \n",
       "1  0.000000    ...     0.014335  0.000000      0.0  0.014335  0.0  0.000000   \n",
       "\n",
       "       they     train   waiting       was  \n",
       "0  0.000000  0.000000  0.000000  0.000000  \n",
       "1  0.014335  0.014335  0.014335  0.014335  \n",
       "\n",
       "[2 rows x 26 columns]"
      ]
     },
     "execution_count": 102,
     "metadata": {},
     "output_type": "execute_result"
    }
   ],
   "source": [
    "tf_idf_A = calcTF_IDF(tf_A,idf)\n",
    "tf_idf_B = calcTF_IDF(tf_B,idf)\n",
    "pd.DataFrame([tf_idf_A, tf_idf_B])"
   ]
  },
  {
   "cell_type": "code",
   "execution_count": null,
   "metadata": {},
   "outputs": [],
   "source": []
  }
 ],
 "metadata": {
  "kernelspec": {
   "display_name": "Python 3",
   "language": "python",
   "name": "python3"
  },
  "language_info": {
   "codemirror_mode": {
    "name": "ipython",
    "version": 3
   },
   "file_extension": ".py",
   "mimetype": "text/x-python",
   "name": "python",
   "nbconvert_exporter": "python",
   "pygments_lexer": "ipython3",
   "version": "3.6.5"
  }
 },
 "nbformat": 4,
 "nbformat_minor": 2
}
